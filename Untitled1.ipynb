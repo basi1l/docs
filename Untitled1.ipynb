{
  "nbformat": 4,
  "nbformat_minor": 0,
  "metadata": {
    "colab": {
      "name": "Untitled1.ipynb",
      "provenance": [],
      "collapsed_sections": [],
      "authorship_tag": "ABX9TyPtXw1gSjFIa/hsnxZ6aKTA",
      "include_colab_link": true
    },
    "kernelspec": {
      "name": "python3",
      "display_name": "Python 3"
    },
    "language_info": {
      "name": "python"
    }
  },
  "cells": [
    {
      "cell_type": "markdown",
      "metadata": {
        "id": "view-in-github",
        "colab_type": "text"
      },
      "source": [
        "<a href=\"https://colab.research.google.com/github/basi1l/docs/blob/main/Untitled1.ipynb\" target=\"_parent\"><img src=\"https://colab.research.google.com/assets/colab-badge.svg\" alt=\"Open In Colab\"/></a>"
      ]
    },
    {
      "cell_type": "code",
      "metadata": {
        "colab": {
          "base_uri": "https://localhost:8080/"
        },
        "id": "VDt0axzrRC3b",
        "outputId": "7cba9b65-fcd3-49ba-b320-278c8fcd7cfe"
      },
      "source": [
        "print(\"enter name\")\n",
        "name=input()\n",
        "if (name==\"bond\"):\n",
        "  print(\"welcome on board 007\")\n",
        "elif (name==\"Bond\"):\n",
        "  print(\"good morning\", name)\n",
        "else:\n",
        "  print(\"not valid\")  \n"
      ],
      "execution_count": 47,
      "outputs": [
        {
          "output_type": "stream",
          "name": "stdout",
          "text": [
            "enter name\n",
            "Bond\n",
            "good morning Bond\n"
          ]
        }
      ]
    },
    {
      "cell_type": "code",
      "metadata": {
        "colab": {
          "base_uri": "https://localhost:8080/"
        },
        "id": "bNk5sYNYZpP-",
        "outputId": "371f1a41-d96e-4ec7-f86b-22033528ad65"
      },
      "source": [
        "\n",
        "num=int(input(\"enter no.\"))\n",
        "if(num==(1,2,3,4,5)):\n",
        "  print(num)\n",
        "elif(num>5):\n",
        "  print(\"bigger\")\n",
        "else:\n",
        "  print(\"not valid\")"
      ],
      "execution_count": 142,
      "outputs": [
        {
          "output_type": "stream",
          "name": "stdout",
          "text": [
            "enter no.4\n",
            "not valid\n"
          ]
        }
      ]
    },
    {
      "cell_type": "code",
      "metadata": {
        "colab": {
          "base_uri": "https://localhost:8080/"
        },
        "id": "ZUV-OszpdqGm",
        "outputId": "cb7d6046-fb7d-43c3-c198-20779747582b"
      },
      "source": [
        "a=input(\"enter a no's \")\n",
        "b=input(\"enter a no's \")\n",
        "if (int(a)>int(b)):\n",
        "  print(a)\n",
        "else:\n",
        "  print(b)"
      ],
      "execution_count": 85,
      "outputs": [
        {
          "output_type": "stream",
          "name": "stdout",
          "text": [
            "enter a no's 6\n",
            "enter a no's 3\n",
            "6\n"
          ]
        }
      ]
    },
    {
      "cell_type": "code",
      "metadata": {
        "colab": {
          "base_uri": "https://localhost:8080/"
        },
        "id": "i54mJWKpkKUd",
        "outputId": "adfcab73-30a2-4427-e154-0b6d14ad44fe"
      },
      "source": [
        "age=int(input(\"Enter age: \"))\n",
        "gend=input(\"Enter Gender: \")\n",
        "\n",
        "if gend==\"male\" or gend==\"female\":\n",
        "  if age<=5:\n",
        "    print(\"Your cat is \"+ gend +\" and is young\")\n",
        "  else:\n",
        "    print(\"Your cat is \"+ gend +\" and is old\")\n",
        "else:\n",
        "  print(\"Invalid input\")"
      ],
      "execution_count": 135,
      "outputs": [
        {
          "output_type": "stream",
          "name": "stdout",
          "text": [
            "Enter age: 6\n",
            "Enter Gender: male\n",
            "Your cat is male and is old\n"
          ]
        }
      ]
    },
    {
      "cell_type": "code",
      "metadata": {
        "colab": {
          "base_uri": "https://localhost:8080/"
        },
        "id": "QYbDrc4KgpVG",
        "outputId": "f132ac6d-3d04-4b19-d877-a42c8ee58b93"
      },
      "source": [
        "print(\"enter first ten no\")\n",
        "\n",
        "for i in range(1,11):\n",
        "  print(i)"
      ],
      "execution_count": 90,
      "outputs": [
        {
          "output_type": "stream",
          "name": "stdout",
          "text": [
            "enter first ten no\n",
            "1\n",
            "2\n",
            "3\n",
            "4\n",
            "5\n",
            "6\n",
            "7\n",
            "8\n",
            "9\n",
            "10\n"
          ]
        }
      ]
    },
    {
      "cell_type": "code",
      "metadata": {
        "colab": {
          "base_uri": "https://localhost:8080/"
        },
        "id": "oPQS3S-EiqYM",
        "outputId": "f0d75e07-3d0a-4436-9bdf-a987e0d272eb"
      },
      "source": [
        "num=int(input())\n",
        "sum=0\n",
        "for i in range(1,num):\n",
        "  sum=sum+i\n",
        "print(sum)"
      ],
      "execution_count": 115,
      "outputs": [
        {
          "output_type": "stream",
          "name": "stdout",
          "text": [
            "5\n",
            "10\n"
          ]
        }
      ]
    },
    {
      "cell_type": "code",
      "metadata": {
        "colab": {
          "base_uri": "https://localhost:8080/"
        },
        "id": "BmwKL1iol13v",
        "outputId": "c3a55f24-03c9-4522-f295-8423957653b0"
      },
      "source": [
        "num=int(input())\n",
        "print(\"multiplication table of\",num)\n",
        "for i in range(1,11):\n",
        "  \n",
        "  print(num*i)"
      ],
      "execution_count": 116,
      "outputs": [
        {
          "output_type": "stream",
          "name": "stdout",
          "text": [
            "5\n",
            "multiplication table of 5\n",
            "5\n",
            "10\n",
            "15\n",
            "20\n",
            "25\n",
            "30\n",
            "35\n",
            "40\n",
            "45\n",
            "50\n"
          ]
        }
      ]
    },
    {
      "cell_type": "code",
      "metadata": {
        "colab": {
          "base_uri": "https://localhost:8080/"
        },
        "id": "OAcNB7Taovxg",
        "outputId": "6fa58727-49fd-4c88-bdaf-cf6681302b1f"
      },
      "source": [
        "\n",
        "num=input(\"enter no.\")\n",
        "l=len(num)\n",
        "count=0\n",
        "num=int(num)\n",
        "for i in range(l):\n",
        "  \n",
        "   num=num//10\n",
        "   count=count+1\n",
        " \n",
        "print(\"the no of digits in a number\",count)"
      ],
      "execution_count": 122,
      "outputs": [
        {
          "output_type": "stream",
          "name": "stdout",
          "text": [
            "enter no.234\n",
            "the no of digits in a number 3\n"
          ]
        }
      ]
    },
    {
      "cell_type": "code",
      "metadata": {
        "colab": {
          "base_uri": "https://localhost:8080/"
        },
        "id": "ZLb010SGqRAT",
        "outputId": "cc909f45-753b-455a-bdf6-1a0afed1c1c1"
      },
      "source": [
        "\n",
        "def numpat(n):\n",
        "  num=1\n",
        "  for i in range(0,n):\n",
        "    num=1\n",
        "    for j in range(0,i+1):\n",
        "      print(num,end=\"\")\n",
        "      num=num+1\n",
        "    print('\\r')\n",
        "n=5\n",
        "numpat(n)    "
      ],
      "execution_count": 133,
      "outputs": [
        {
          "output_type": "stream",
          "name": "stdout",
          "text": [
            "1\r\n",
            "12\r\n",
            "123\r\n",
            "1234\r\n",
            "12345\r\n"
          ]
        }
      ]
    }
  ]
}